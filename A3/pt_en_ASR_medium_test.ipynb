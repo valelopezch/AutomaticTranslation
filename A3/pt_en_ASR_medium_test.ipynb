{
 "cells": [
  {
   "cell_type": "markdown",
   "metadata": {
    "id": "2uW8BgFL5Tdb"
   },
   "source": [
    "<div style=\"text-align: right\"><b> Ana Valentina López Chacón </b></div>\n",
    "<div style=\"text-align: right\"><b> Traducción Automática, 2024 - 2025 </b></div>\n",
    "\n",
    "# **Portugués a Ingles: ASR Baseline Whisper Medium**"
   ]
  },
  {
   "cell_type": "code",
   "execution_count": 19,
   "metadata": {
    "colab": {
     "base_uri": "https://localhost:8080/"
    },
    "executionInfo": {
     "elapsed": 2546,
     "status": "ok",
     "timestamp": 1737586341193,
     "user": {
      "displayName": "Valentina López",
      "userId": "10053159817145417315"
     },
     "user_tz": -60
    },
    "id": "OIj5B7gI5kQK",
    "outputId": "ccf72a44-f469-4402-a4ee-187447c1c300"
   },
   "outputs": [
    {
     "name": "stdout",
     "output_type": "stream",
     "text": [
      "Drive already mounted at /content/drive; to attempt to forcibly remount, call drive.mount(\"/content/drive\", force_remount=True).\n"
     ]
    }
   ],
   "source": [
    "from google.colab import drive\n",
    "drive.mount('/content/drive')\n",
    "# path = '/content/drive/MyDrive/Colab Notebooks/TA/A3/'"
   ]
  },
  {
   "cell_type": "code",
   "execution_count": 20,
   "metadata": {
    "colab": {
     "base_uri": "https://localhost:8080/"
    },
    "executionInfo": {
     "elapsed": 12029,
     "status": "ok",
     "timestamp": 1737586353217,
     "user": {
      "displayName": "Valentina López",
      "userId": "10053159817145417315"
     },
     "user_tz": -60
    },
    "id": "9JtqlG3GoNb_",
    "outputId": "d0e7dda5-af9e-4d9a-a72a-88d036c6838c"
   },
   "outputs": [
    {
     "name": "stdout",
     "output_type": "stream",
     "text": [
      "  Installing build dependencies ... \u001b[?25l\u001b[?25hdone\n",
      "  Getting requirements to build wheel ... \u001b[?25l\u001b[?25hdone\n",
      "  Preparing metadata (pyproject.toml) ... \u001b[?25l\u001b[?25hdone\n"
     ]
    }
   ],
   "source": [
    "!pip install -q git+https://github.com/openai/whisper.git\n",
    "!pip install -q datasets jiwer tqdm pandas\n",
    "!pip install -q torch torchvision torchaudio"
   ]
  },
  {
   "cell_type": "code",
   "execution_count": 21,
   "metadata": {
    "colab": {
     "base_uri": "https://localhost:8080/"
    },
    "executionInfo": {
     "elapsed": 23116,
     "status": "ok",
     "timestamp": 1737586376325,
     "user": {
      "displayName": "Valentina López",
      "userId": "10053159817145417315"
     },
     "user_tz": -60
    },
    "id": "vSLJUMT25Tdf",
    "outputId": "7478a1ce-eee3-4073-b76b-0ec8f1e2cf36"
   },
   "outputs": [
    {
     "name": "stderr",
     "output_type": "stream",
     "text": [
      "/usr/local/lib/python3.11/dist-packages/whisper/__init__.py:150: FutureWarning: You are using `torch.load` with `weights_only=False` (the current default value), which uses the default pickle module implicitly. It is possible to construct malicious pickle data which will execute arbitrary code during unpickling (See https://github.com/pytorch/pytorch/blob/main/SECURITY.md#untrusted-models for more details). In a future release, the default value for `weights_only` will be flipped to `True`. This limits the functions that could be executed during unpickling. Arbitrary objects will no longer be allowed to be loaded via this mode unless they are explicitly allowlisted by the user via `torch.serialization.add_safe_globals`. We recommend you start setting `weights_only=True` for any use case where you don't have full control of the loaded file. Please open an issue on GitHub for any issues related to this experimental feature.\n",
      "  checkpoint = torch.load(fp, map_location=device)\n"
     ]
    }
   ],
   "source": [
    "import whisper\n",
    "from whisper.normalizers.basic import BasicTextNormalizer\n",
    "\n",
    "from tqdm.notebook import tqdm\n",
    "import pandas as pd\n",
    "\n",
    "import jiwer\n",
    "\n",
    "model = whisper.load_model(\"medium\")"
   ]
  },
  {
   "cell_type": "markdown",
   "metadata": {
    "id": "g3NcwTRX5Tdg"
   },
   "source": [
    "<p style=\"page-break-after:always;\"></p>"
   ]
  },
  {
   "cell_type": "code",
   "execution_count": 22,
   "metadata": {
    "executionInfo": {
     "elapsed": 7,
     "status": "ok",
     "timestamp": 1737586376326,
     "user": {
      "displayName": "Valentina López",
      "userId": "10053159817145417315"
     },
     "user_tz": -60
    },
    "id": "yWRYfFFfoSha"
   },
   "outputs": [],
   "source": [
    "# import tarfile\n",
    "\n",
    "# tar_path = \"/content/drive/MyDrive/Colab Notebooks/TA/A3/pt.tar\"\n",
    "output_dir = \"/content/drive/MyDrive/Colab Notebooks/TA/A3/pt\"\n",
    "\n",
    "# with tarfile.open(tar_path, 'r') as tar:\n",
    "#     tar.extractall(path=output_dir)\n",
    "\n",
    "# print(\"Extraction complete!\")\n"
   ]
  },
  {
   "cell_type": "code",
   "execution_count": 23,
   "metadata": {
    "colab": {
     "base_uri": "https://localhost:8080/"
    },
    "executionInfo": {
     "elapsed": 1180,
     "status": "ok",
     "timestamp": 1737586377500,
     "user": {
      "displayName": "Valentina López",
      "userId": "10053159817145417315"
     },
     "user_tz": -60
    },
    "id": "quc4b1fB5Tdh",
    "outputId": "b30b04f8-0d18-4414-ed01-1cac5e08a226"
   },
   "outputs": [
    {
     "name": "stdout",
     "output_type": "stream",
     "text": [
      "DatasetDict({\n",
      "    train: Dataset({\n",
      "        features: ['client_id', 'file', 'audio', 'sentence', 'translation', 'id'],\n",
      "        num_rows: 9158\n",
      "    })\n",
      "    validation: Dataset({\n",
      "        features: ['client_id', 'file', 'audio', 'sentence', 'translation', 'id'],\n",
      "        num_rows: 3318\n",
      "    })\n",
      "    test: Dataset({\n",
      "        features: ['client_id', 'file', 'audio', 'sentence', 'translation', 'id'],\n",
      "        num_rows: 4023\n",
      "    })\n",
      "})\n"
     ]
    }
   ],
   "source": [
    "from datasets import load_dataset\n",
    "\n",
    "raw_datasets = load_dataset(\"facebook/covost2\", 'pt_en', data_dir=output_dir)\n",
    "\n",
    "print(raw_datasets)"
   ]
  },
  {
   "cell_type": "code",
   "execution_count": 24,
   "metadata": {
    "colab": {
     "base_uri": "https://localhost:8080/"
    },
    "executionInfo": {
     "elapsed": 19,
     "status": "ok",
     "timestamp": 1737586377500,
     "user": {
      "displayName": "Valentina López",
      "userId": "10053159817145417315"
     },
     "user_tz": -60
    },
    "id": "eMb7wfgx5Tdh",
    "outputId": "b185b17a-9371-4706-c615-cd3bf8bfa2f5"
   },
   "outputs": [
    {
     "data": {
      "text/plain": [
       "{'client_id': Value(dtype='string', id=None),\n",
       " 'file': Value(dtype='string', id=None),\n",
       " 'audio': Audio(sampling_rate=16000, mono=True, decode=True, id=None),\n",
       " 'sentence': Value(dtype='string', id=None),\n",
       " 'translation': Value(dtype='string', id=None),\n",
       " 'id': Value(dtype='string', id=None)}"
      ]
     },
     "execution_count": 24,
     "metadata": {},
     "output_type": "execute_result"
    }
   ],
   "source": [
    "raw_datasets[\"train\"].features"
   ]
  },
  {
   "cell_type": "code",
   "execution_count": 25,
   "metadata": {
    "colab": {
     "base_uri": "https://localhost:8080/"
    },
    "executionInfo": {
     "elapsed": 17,
     "status": "ok",
     "timestamp": 1737586377500,
     "user": {
      "displayName": "Valentina López",
      "userId": "10053159817145417315"
     },
     "user_tz": -60
    },
    "id": "qWgAfumu5Tdi",
    "outputId": "1fe709b4-0ef0-4473-e0b4-52e2bc610903"
   },
   "outputs": [
    {
     "data": {
      "text/plain": [
       "['/content/drive/MyDrive/Colab Notebooks/TA/A3/pt/clips/common_voice_pt_19277034.mp3',\n",
       " '/content/drive/MyDrive/Colab Notebooks/TA/A3/pt/clips/common_voice_pt_19277037.mp3',\n",
       " '/content/drive/MyDrive/Colab Notebooks/TA/A3/pt/clips/common_voice_pt_19277041.mp3',\n",
       " '/content/drive/MyDrive/Colab Notebooks/TA/A3/pt/clips/common_voice_pt_19277042.mp3',\n",
       " '/content/drive/MyDrive/Colab Notebooks/TA/A3/pt/clips/common_voice_pt_19277044.mp3']"
      ]
     },
     "execution_count": 25,
     "metadata": {},
     "output_type": "execute_result"
    }
   ],
   "source": [
    "raw_datasets[\"train\"][:5][\"file\"]"
   ]
  },
  {
   "cell_type": "code",
   "execution_count": 26,
   "metadata": {
    "colab": {
     "base_uri": "https://localhost:8080/"
    },
    "executionInfo": {
     "elapsed": 11,
     "status": "ok",
     "timestamp": 1737586377500,
     "user": {
      "displayName": "Valentina López",
      "userId": "10053159817145417315"
     },
     "user_tz": -60
    },
    "id": "wDU_qu6n5Tdi",
    "outputId": "203cc2f2-82a2-449b-da59-589c68eddcd8"
   },
   "outputs": [
    {
     "data": {
      "text/plain": [
       "[{'path': '/content/drive/MyDrive/Colab Notebooks/TA/A3/pt/clips/common_voice_pt_19277034.mp3',\n",
       "  'array': array([-1.81898940e-12,  5.45696821e-12, -2.18278728e-11, ...,\n",
       "          1.10979299e-05,  2.18208988e-05,  3.43878878e-06]),\n",
       "  'sampling_rate': 16000},\n",
       " {'path': '/content/drive/MyDrive/Colab Notebooks/TA/A3/pt/clips/common_voice_pt_19277037.mp3',\n",
       "  'array': array([-1.45519152e-10, -1.16415322e-10, -4.65661287e-10, ...,\n",
       "         -1.30036278e-06, -6.07408765e-07, -9.71125974e-06]),\n",
       "  'sampling_rate': 16000},\n",
       " {'path': '/content/drive/MyDrive/Colab Notebooks/TA/A3/pt/clips/common_voice_pt_19277041.mp3',\n",
       "  'array': array([-1.09139364e-11,  1.81898940e-12,  1.09139364e-11, ...,\n",
       "         -5.78370464e-06, -1.24623975e-05,  2.79884334e-05]),\n",
       "  'sampling_rate': 16000},\n",
       " {'path': '/content/drive/MyDrive/Colab Notebooks/TA/A3/pt/clips/common_voice_pt_19277042.mp3',\n",
       "  'array': array([ 1.09139364e-11,  1.90993887e-11,  4.54747351e-12, ...,\n",
       "         -2.10382859e-06,  2.25497788e-05,  6.01978609e-05]),\n",
       "  'sampling_rate': 16000},\n",
       " {'path': '/content/drive/MyDrive/Colab Notebooks/TA/A3/pt/clips/common_voice_pt_19277044.mp3',\n",
       "  'array': array([ 2.91038305e-11,  0.00000000e+00,  2.91038305e-11, ...,\n",
       "          1.45803460e-05, -2.31697613e-05, -5.40795081e-05]),\n",
       "  'sampling_rate': 16000}]"
      ]
     },
     "execution_count": 26,
     "metadata": {},
     "output_type": "execute_result"
    }
   ],
   "source": [
    "raw_datasets[\"train\"][:5][\"audio\"]"
   ]
  },
  {
   "cell_type": "code",
   "execution_count": 27,
   "metadata": {
    "colab": {
     "base_uri": "https://localhost:8080/"
    },
    "executionInfo": {
     "elapsed": 857,
     "status": "ok",
     "timestamp": 1737586378349,
     "user": {
      "displayName": "Valentina López",
      "userId": "10053159817145417315"
     },
     "user_tz": -60
    },
    "id": "3uHnJPg25Tdi",
    "outputId": "936607db-0872-4d8f-a042-29748935dfc1"
   },
   "outputs": [
    {
     "data": {
      "text/plain": [
       "['Altere o dispositivo de saída de áudio.',\n",
       " 'Até a data-limite, prevista no tratado, vários mísseis foram destruídos.',\n",
       " 'Eu balancei a cabeça.',\n",
       " 'Adicione The Cranberries Zombie a playlist de clássicas.',\n",
       " 'Um cinegrafista filmando um jogo de basquete.']"
      ]
     },
     "execution_count": 27,
     "metadata": {},
     "output_type": "execute_result"
    }
   ],
   "source": [
    "raw_datasets[\"train\"][:5][\"sentence\"]"
   ]
  },
  {
   "cell_type": "code",
   "execution_count": 28,
   "metadata": {
    "colab": {
     "base_uri": "https://localhost:8080/"
    },
    "executionInfo": {
     "elapsed": 6,
     "status": "ok",
     "timestamp": 1737586378350,
     "user": {
      "displayName": "Valentina López",
      "userId": "10053159817145417315"
     },
     "user_tz": -60
    },
    "id": "rMoQ_kBf5Tdj",
    "outputId": "51014653-ec02-4b63-cc11-6396bfb903ce"
   },
   "outputs": [
    {
     "data": {
      "text/plain": [
       "['Change the audio output device.',\n",
       " 'By the deadline shown in the treaty, various missiles had been destroyed.',\n",
       " 'I shook my head.',\n",
       " 'Add The Cranberries Zombie to the classics playlist.',\n",
       " 'A cameraman filming a basketball game.']"
      ]
     },
     "execution_count": 28,
     "metadata": {},
     "output_type": "execute_result"
    }
   ],
   "source": [
    "raw_datasets[\"train\"][:5][\"translation\"]"
   ]
  },
  {
   "cell_type": "markdown",
   "metadata": {
    "id": "-2kQZnUc5Tdj"
   },
   "source": [
    "<p style=\"page-break-after:always;\"></p>"
   ]
  },
  {
   "cell_type": "code",
   "execution_count": 29,
   "metadata": {
    "executionInfo": {
     "elapsed": 590148,
     "status": "ok",
     "timestamp": 1737586968495,
     "user": {
      "displayName": "Valentina López",
      "userId": "10053159817145417315"
     },
     "user_tz": -60
    },
    "id": "y4U0K0MT5Tdj"
   },
   "outputs": [],
   "source": [
    "data=raw_datasets[\"test\"][:1000]"
   ]
  },
  {
   "cell_type": "code",
   "execution_count": 30,
   "metadata": {
    "executionInfo": {
     "elapsed": 733174,
     "status": "ok",
     "timestamp": 1737587701654,
     "user": {
      "displayName": "Valentina López",
      "userId": "10053159817145417315"
     },
     "user_tz": -60
    },
    "id": "UER7_LQO5Tdj"
   },
   "outputs": [],
   "source": [
    "hypotheses = []\n",
    "for sample in data[\"file\"]:\n",
    "    hypotheses.append((model.transcribe(sample, language=\"Portuguese\"))['text'])"
   ]
  },
  {
   "cell_type": "code",
   "execution_count": 31,
   "metadata": {
    "executionInfo": {
     "elapsed": 58,
     "status": "ok",
     "timestamp": 1737587701666,
     "user": {
      "displayName": "Valentina López",
      "userId": "10053159817145417315"
     },
     "user_tz": -60
    },
    "id": "ePKmMoXJ5Tdj"
   },
   "outputs": [],
   "source": [
    "data[\"hypothesis\"] = hypotheses"
   ]
  },
  {
   "cell_type": "code",
   "execution_count": 32,
   "metadata": {
    "colab": {
     "base_uri": "https://localhost:8080/"
    },
    "executionInfo": {
     "elapsed": 41,
     "status": "ok",
     "timestamp": 1737587701667,
     "user": {
      "displayName": "Valentina López",
      "userId": "10053159817145417315"
     },
     "user_tz": -60
    },
    "id": "7uqnMZuT5Tdj",
    "outputId": "2ee099d7-8ebc-43a2-a9a6-2f6feb82808c"
   },
   "outputs": [
    {
     "data": {
      "text/plain": [
       "[' e dinheiro emprestado às pessoas da aldeia.',\n",
       " ' Trancamos.',\n",
       " ' YouTube ainda é a melhor plataforma de vídeos.',\n",
       " ' Menina e menino beijando nas sombras',\n",
       " ' Particularmente, meu cuscuz cortado eu gosto de comer bem, em vez de gregado.']"
      ]
     },
     "execution_count": 32,
     "metadata": {},
     "output_type": "execute_result"
    }
   ],
   "source": [
    "data[\"hypothesis\"][:5]"
   ]
  },
  {
   "cell_type": "code",
   "execution_count": 33,
   "metadata": {
    "executionInfo": {
     "elapsed": 37,
     "status": "ok",
     "timestamp": 1737587701667,
     "user": {
      "displayName": "Valentina López",
      "userId": "10053159817145417315"
     },
     "user_tz": -60
    },
    "id": "pG_zIeqU5Tdj"
   },
   "outputs": [],
   "source": [
    "normalizer = BasicTextNormalizer()\n",
    "\n",
    "data[\"hypothesis_clean\"] = [normalizer(text) for text in data[\"hypothesis\"]]\n",
    "data[\"sentence_clean\"] = [normalizer(text) for text in data[\"sentence\"]]\n",
    "data[\"translation_clean\"] = [normalizer(text) for text in data[\"translation\"]]"
   ]
  },
  {
   "cell_type": "markdown",
   "metadata": {
    "id": "LcSzQAo55Tdj"
   },
   "source": [
    "<p style=\"page-break-after:always;\"></p>"
   ]
  },
  {
   "cell_type": "code",
   "execution_count": 34,
   "metadata": {
    "colab": {
     "base_uri": "https://localhost:8080/"
    },
    "executionInfo": {
     "elapsed": 35,
     "status": "ok",
     "timestamp": 1737587701667,
     "user": {
      "displayName": "Valentina López",
      "userId": "10053159817145417315"
     },
     "user_tz": -60
    },
    "id": "XdzA1mkv5Tdk",
    "outputId": "9a1a92c3-30c9-40e3-cb10-99b48139a8a9"
   },
   "outputs": [
    {
     "name": "stdout",
     "output_type": "stream",
     "text": [
      "WER: 7.00 %\n"
     ]
    }
   ],
   "source": [
    "wer = jiwer.wer(list(data[\"sentence_clean\"]), list(data[\"hypothesis_clean\"]))\n",
    "\n",
    "print(f\"WER: {wer * 100:.2f} %\")"
   ]
  },
  {
   "cell_type": "code",
   "execution_count": 35,
   "metadata": {
    "colab": {
     "base_uri": "https://localhost:8080/",
     "height": 486
    },
    "executionInfo": {
     "elapsed": 31,
     "status": "ok",
     "timestamp": 1737587701667,
     "user": {
      "displayName": "Valentina López",
      "userId": "10053159817145417315"
     },
     "user_tz": -60
    },
    "id": "n6sPMN-P5Tdk",
    "outputId": "730d7355-5b0a-430d-f53b-2d441e7387d3"
   },
   "outputs": [
    {
     "data": {
      "application/vnd.google.colaboratory.intrinsic+json": {
       "summary": "{\n  \"name\": \"dataframe\",\n  \"rows\": 1000,\n  \"fields\": [\n    {\n      \"column\": \"transcription\",\n      \"properties\": {\n        \"dtype\": \"string\",\n        \"num_unique_values\": 1000,\n        \"samples\": [\n          \" Um grupo de pessoas remando em um grande barco a remos no lago.\",\n          \" Pingente do pequeno cinto\",\n          \" Essa \\u00e9 a raz\\u00e3o pela qual eu cheguei em quarto lugar.\"\n        ],\n        \"semantic_type\": \"\",\n        \"description\": \"\"\n      }\n    },\n    {\n      \"column\": \"sentence\",\n      \"properties\": {\n        \"dtype\": \"string\",\n        \"num_unique_values\": 1000,\n        \"samples\": [\n          \"um grupo de pessoas remando um grande barco a remos no lago.\",\n          \"Pingente do pequeno cinto\",\n          \"Essa \\u00e9 a raz\\u00e3o pela qual eu cheguei em quarto lugar.\"\n        ],\n        \"semantic_type\": \"\",\n        \"description\": \"\"\n      }\n    },\n    {\n      \"column\": \"translation\",\n      \"properties\": {\n        \"dtype\": \"string\",\n        \"num_unique_values\": 1000,\n        \"samples\": [\n          \"A group of people rowing a large rowboat over the lake.\",\n          \"Small belt pendant.\",\n          \"That is the reason why I came in fourth place.\"\n        ],\n        \"semantic_type\": \"\",\n        \"description\": \"\"\n      }\n    },\n    {\n      \"column\": \"transcription_clean\",\n      \"properties\": {\n        \"dtype\": \"string\",\n        \"num_unique_values\": 999,\n        \"samples\": [\n          \" adolescentes se divertindo \",\n          \" tudo que eu digo \\u00e9 cuspilos \",\n          \" aguarde o sinal \"\n        ],\n        \"semantic_type\": \"\",\n        \"description\": \"\"\n      }\n    },\n    {\n      \"column\": \"sentence_clean\",\n      \"properties\": {\n        \"dtype\": \"string\",\n        \"num_unique_values\": 999,\n        \"samples\": [\n          \"uma fam\\u00edlia com duas crian\\u00e7as est\\u00e1 em uma exposi\\u00e7\\u00e3o da loja \",\n          \"n\\u00f3s precisamos conversar \",\n          \"aguarde o sinal \"\n        ],\n        \"semantic_type\": \"\",\n        \"description\": \"\"\n      }\n    },\n    {\n      \"column\": \"translation_clean\",\n      \"properties\": {\n        \"dtype\": \"string\",\n        \"num_unique_values\": 998,\n        \"samples\": [\n          \"teenagers having fun \",\n          \"we need to talk \",\n          \"wait for the signal \"\n        ],\n        \"semantic_type\": \"\",\n        \"description\": \"\"\n      }\n    }\n  ]\n}",
       "type": "dataframe",
       "variable_name": "dataframe"
      },
      "text/html": [
       "\n",
       "  <div id=\"df-0fa46d2a-10e8-4437-b7f8-009e40256078\" class=\"colab-df-container\">\n",
       "    <div>\n",
       "<style scoped>\n",
       "    .dataframe tbody tr th:only-of-type {\n",
       "        vertical-align: middle;\n",
       "    }\n",
       "\n",
       "    .dataframe tbody tr th {\n",
       "        vertical-align: top;\n",
       "    }\n",
       "\n",
       "    .dataframe thead th {\n",
       "        text-align: right;\n",
       "    }\n",
       "</style>\n",
       "<table border=\"1\" class=\"dataframe\">\n",
       "  <thead>\n",
       "    <tr style=\"text-align: right;\">\n",
       "      <th></th>\n",
       "      <th>transcription</th>\n",
       "      <th>sentence</th>\n",
       "      <th>translation</th>\n",
       "      <th>transcription_clean</th>\n",
       "      <th>sentence_clean</th>\n",
       "      <th>translation_clean</th>\n",
       "    </tr>\n",
       "  </thead>\n",
       "  <tbody>\n",
       "    <tr>\n",
       "      <th>0</th>\n",
       "      <td>e dinheiro emprestado às pessoas da aldeia.</td>\n",
       "      <td>Pedir dinheiro emprestado às pessoas da aldeia</td>\n",
       "      <td>Borrow money from people in the village</td>\n",
       "      <td>e dinheiro emprestado às pessoas da aldeia</td>\n",
       "      <td>pedir dinheiro emprestado às pessoas da aldeia</td>\n",
       "      <td>borrow money from people in the village</td>\n",
       "    </tr>\n",
       "    <tr>\n",
       "      <th>1</th>\n",
       "      <td>Trancamos.</td>\n",
       "      <td>Trancá-los</td>\n",
       "      <td>Lock them up</td>\n",
       "      <td>trancamos</td>\n",
       "      <td>trancá los</td>\n",
       "      <td>lock them up</td>\n",
       "    </tr>\n",
       "    <tr>\n",
       "      <th>2</th>\n",
       "      <td>YouTube ainda é a melhor plataforma de vídeos.</td>\n",
       "      <td>O Youtube ainda é a melhor plataforma de vídeos.</td>\n",
       "      <td>Youtube is still the best video platform.</td>\n",
       "      <td>youtube ainda é a melhor plataforma de vídeos</td>\n",
       "      <td>o youtube ainda é a melhor plataforma de vídeos</td>\n",
       "      <td>youtube is still the best video platform</td>\n",
       "    </tr>\n",
       "    <tr>\n",
       "      <th>3</th>\n",
       "      <td>Menina e menino beijando nas sombras</td>\n",
       "      <td>Menina e menino beijando nas sombras</td>\n",
       "      <td>A girl and a boy kissing in the shadows</td>\n",
       "      <td>menina e menino beijando nas sombras</td>\n",
       "      <td>menina e menino beijando nas sombras</td>\n",
       "      <td>a girl and a boy kissing in the shadows</td>\n",
       "    </tr>\n",
       "    <tr>\n",
       "      <th>4</th>\n",
       "      <td>Particularmente, meu cuscuz cortado eu gosto de comer bem, em vez de gregado.</td>\n",
       "      <td>Particularmente, meu cuscuz cortado eu gosto de comer bem, em vez de grelhado.</td>\n",
       "      <td>I actually prefer to eat my sliced couscous as it is, instead of grilled.</td>\n",
       "      <td>particularmente meu cuscuz cortado eu gosto de comer bem em vez de gregado</td>\n",
       "      <td>particularmente meu cuscuz cortado eu gosto de comer bem em vez de grelhado</td>\n",
       "      <td>i actually prefer to eat my sliced couscous as it is instead of grilled</td>\n",
       "    </tr>\n",
       "  </tbody>\n",
       "</table>\n",
       "</div>\n",
       "    <div class=\"colab-df-buttons\">\n",
       "\n",
       "  <div class=\"colab-df-container\">\n",
       "    <button class=\"colab-df-convert\" onclick=\"convertToInteractive('df-0fa46d2a-10e8-4437-b7f8-009e40256078')\"\n",
       "            title=\"Convert this dataframe to an interactive table.\"\n",
       "            style=\"display:none;\">\n",
       "\n",
       "  <svg xmlns=\"http://www.w3.org/2000/svg\" height=\"24px\" viewBox=\"0 -960 960 960\">\n",
       "    <path d=\"M120-120v-720h720v720H120Zm60-500h600v-160H180v160Zm220 220h160v-160H400v160Zm0 220h160v-160H400v160ZM180-400h160v-160H180v160Zm440 0h160v-160H620v160ZM180-180h160v-160H180v160Zm440 0h160v-160H620v160Z\"/>\n",
       "  </svg>\n",
       "    </button>\n",
       "\n",
       "  <style>\n",
       "    .colab-df-container {\n",
       "      display:flex;\n",
       "      gap: 12px;\n",
       "    }\n",
       "\n",
       "    .colab-df-convert {\n",
       "      background-color: #E8F0FE;\n",
       "      border: none;\n",
       "      border-radius: 50%;\n",
       "      cursor: pointer;\n",
       "      display: none;\n",
       "      fill: #1967D2;\n",
       "      height: 32px;\n",
       "      padding: 0 0 0 0;\n",
       "      width: 32px;\n",
       "    }\n",
       "\n",
       "    .colab-df-convert:hover {\n",
       "      background-color: #E2EBFA;\n",
       "      box-shadow: 0px 1px 2px rgba(60, 64, 67, 0.3), 0px 1px 3px 1px rgba(60, 64, 67, 0.15);\n",
       "      fill: #174EA6;\n",
       "    }\n",
       "\n",
       "    .colab-df-buttons div {\n",
       "      margin-bottom: 4px;\n",
       "    }\n",
       "\n",
       "    [theme=dark] .colab-df-convert {\n",
       "      background-color: #3B4455;\n",
       "      fill: #D2E3FC;\n",
       "    }\n",
       "\n",
       "    [theme=dark] .colab-df-convert:hover {\n",
       "      background-color: #434B5C;\n",
       "      box-shadow: 0px 1px 3px 1px rgba(0, 0, 0, 0.15);\n",
       "      filter: drop-shadow(0px 1px 2px rgba(0, 0, 0, 0.3));\n",
       "      fill: #FFFFFF;\n",
       "    }\n",
       "  </style>\n",
       "\n",
       "    <script>\n",
       "      const buttonEl =\n",
       "        document.querySelector('#df-0fa46d2a-10e8-4437-b7f8-009e40256078 button.colab-df-convert');\n",
       "      buttonEl.style.display =\n",
       "        google.colab.kernel.accessAllowed ? 'block' : 'none';\n",
       "\n",
       "      async function convertToInteractive(key) {\n",
       "        const element = document.querySelector('#df-0fa46d2a-10e8-4437-b7f8-009e40256078');\n",
       "        const dataTable =\n",
       "          await google.colab.kernel.invokeFunction('convertToInteractive',\n",
       "                                                    [key], {});\n",
       "        if (!dataTable) return;\n",
       "\n",
       "        const docLinkHtml = 'Like what you see? Visit the ' +\n",
       "          '<a target=\"_blank\" href=https://colab.research.google.com/notebooks/data_table.ipynb>data table notebook</a>'\n",
       "          + ' to learn more about interactive tables.';\n",
       "        element.innerHTML = '';\n",
       "        dataTable['output_type'] = 'display_data';\n",
       "        await google.colab.output.renderOutput(dataTable, element);\n",
       "        const docLink = document.createElement('div');\n",
       "        docLink.innerHTML = docLinkHtml;\n",
       "        element.appendChild(docLink);\n",
       "      }\n",
       "    </script>\n",
       "  </div>\n",
       "\n",
       "\n",
       "<div id=\"df-8e976d49-e33c-49b0-bce0-a771a285feab\">\n",
       "  <button class=\"colab-df-quickchart\" onclick=\"quickchart('df-8e976d49-e33c-49b0-bce0-a771a285feab')\"\n",
       "            title=\"Suggest charts\"\n",
       "            style=\"display:none;\">\n",
       "\n",
       "<svg xmlns=\"http://www.w3.org/2000/svg\" height=\"24px\"viewBox=\"0 0 24 24\"\n",
       "     width=\"24px\">\n",
       "    <g>\n",
       "        <path d=\"M19 3H5c-1.1 0-2 .9-2 2v14c0 1.1.9 2 2 2h14c1.1 0 2-.9 2-2V5c0-1.1-.9-2-2-2zM9 17H7v-7h2v7zm4 0h-2V7h2v10zm4 0h-2v-4h2v4z\"/>\n",
       "    </g>\n",
       "</svg>\n",
       "  </button>\n",
       "\n",
       "<style>\n",
       "  .colab-df-quickchart {\n",
       "      --bg-color: #E8F0FE;\n",
       "      --fill-color: #1967D2;\n",
       "      --hover-bg-color: #E2EBFA;\n",
       "      --hover-fill-color: #174EA6;\n",
       "      --disabled-fill-color: #AAA;\n",
       "      --disabled-bg-color: #DDD;\n",
       "  }\n",
       "\n",
       "  [theme=dark] .colab-df-quickchart {\n",
       "      --bg-color: #3B4455;\n",
       "      --fill-color: #D2E3FC;\n",
       "      --hover-bg-color: #434B5C;\n",
       "      --hover-fill-color: #FFFFFF;\n",
       "      --disabled-bg-color: #3B4455;\n",
       "      --disabled-fill-color: #666;\n",
       "  }\n",
       "\n",
       "  .colab-df-quickchart {\n",
       "    background-color: var(--bg-color);\n",
       "    border: none;\n",
       "    border-radius: 50%;\n",
       "    cursor: pointer;\n",
       "    display: none;\n",
       "    fill: var(--fill-color);\n",
       "    height: 32px;\n",
       "    padding: 0;\n",
       "    width: 32px;\n",
       "  }\n",
       "\n",
       "  .colab-df-quickchart:hover {\n",
       "    background-color: var(--hover-bg-color);\n",
       "    box-shadow: 0 1px 2px rgba(60, 64, 67, 0.3), 0 1px 3px 1px rgba(60, 64, 67, 0.15);\n",
       "    fill: var(--button-hover-fill-color);\n",
       "  }\n",
       "\n",
       "  .colab-df-quickchart-complete:disabled,\n",
       "  .colab-df-quickchart-complete:disabled:hover {\n",
       "    background-color: var(--disabled-bg-color);\n",
       "    fill: var(--disabled-fill-color);\n",
       "    box-shadow: none;\n",
       "  }\n",
       "\n",
       "  .colab-df-spinner {\n",
       "    border: 2px solid var(--fill-color);\n",
       "    border-color: transparent;\n",
       "    border-bottom-color: var(--fill-color);\n",
       "    animation:\n",
       "      spin 1s steps(1) infinite;\n",
       "  }\n",
       "\n",
       "  @keyframes spin {\n",
       "    0% {\n",
       "      border-color: transparent;\n",
       "      border-bottom-color: var(--fill-color);\n",
       "      border-left-color: var(--fill-color);\n",
       "    }\n",
       "    20% {\n",
       "      border-color: transparent;\n",
       "      border-left-color: var(--fill-color);\n",
       "      border-top-color: var(--fill-color);\n",
       "    }\n",
       "    30% {\n",
       "      border-color: transparent;\n",
       "      border-left-color: var(--fill-color);\n",
       "      border-top-color: var(--fill-color);\n",
       "      border-right-color: var(--fill-color);\n",
       "    }\n",
       "    40% {\n",
       "      border-color: transparent;\n",
       "      border-right-color: var(--fill-color);\n",
       "      border-top-color: var(--fill-color);\n",
       "    }\n",
       "    60% {\n",
       "      border-color: transparent;\n",
       "      border-right-color: var(--fill-color);\n",
       "    }\n",
       "    80% {\n",
       "      border-color: transparent;\n",
       "      border-right-color: var(--fill-color);\n",
       "      border-bottom-color: var(--fill-color);\n",
       "    }\n",
       "    90% {\n",
       "      border-color: transparent;\n",
       "      border-bottom-color: var(--fill-color);\n",
       "    }\n",
       "  }\n",
       "</style>\n",
       "\n",
       "  <script>\n",
       "    async function quickchart(key) {\n",
       "      const quickchartButtonEl =\n",
       "        document.querySelector('#' + key + ' button');\n",
       "      quickchartButtonEl.disabled = true;  // To prevent multiple clicks.\n",
       "      quickchartButtonEl.classList.add('colab-df-spinner');\n",
       "      try {\n",
       "        const charts = await google.colab.kernel.invokeFunction(\n",
       "            'suggestCharts', [key], {});\n",
       "      } catch (error) {\n",
       "        console.error('Error during call to suggestCharts:', error);\n",
       "      }\n",
       "      quickchartButtonEl.classList.remove('colab-df-spinner');\n",
       "      quickchartButtonEl.classList.add('colab-df-quickchart-complete');\n",
       "    }\n",
       "    (() => {\n",
       "      let quickchartButtonEl =\n",
       "        document.querySelector('#df-8e976d49-e33c-49b0-bce0-a771a285feab button');\n",
       "      quickchartButtonEl.style.display =\n",
       "        google.colab.kernel.accessAllowed ? 'block' : 'none';\n",
       "    })();\n",
       "  </script>\n",
       "</div>\n",
       "\n",
       "    </div>\n",
       "  </div>\n"
      ],
      "text/plain": [
       "                                                                    transcription  \\\n",
       "0                                     e dinheiro emprestado às pessoas da aldeia.   \n",
       "1                                                                      Trancamos.   \n",
       "2                                  YouTube ainda é a melhor plataforma de vídeos.   \n",
       "3                                            Menina e menino beijando nas sombras   \n",
       "4   Particularmente, meu cuscuz cortado eu gosto de comer bem, em vez de gregado.   \n",
       "\n",
       "                                                                         sentence  \\\n",
       "0                                  Pedir dinheiro emprestado às pessoas da aldeia   \n",
       "1                                                                      Trancá-los   \n",
       "2                                O Youtube ainda é a melhor plataforma de vídeos.   \n",
       "3                                            Menina e menino beijando nas sombras   \n",
       "4  Particularmente, meu cuscuz cortado eu gosto de comer bem, em vez de grelhado.   \n",
       "\n",
       "                                                                 translation  \\\n",
       "0                                    Borrow money from people in the village   \n",
       "1                                                               Lock them up   \n",
       "2                                  Youtube is still the best video platform.   \n",
       "3                                    A girl and a boy kissing in the shadows   \n",
       "4  I actually prefer to eat my sliced couscous as it is, instead of grilled.   \n",
       "\n",
       "                                                            transcription_clean  \\\n",
       "0                                   e dinheiro emprestado às pessoas da aldeia    \n",
       "1                                                                    trancamos    \n",
       "2                                youtube ainda é a melhor plataforma de vídeos    \n",
       "3                                          menina e menino beijando nas sombras   \n",
       "4   particularmente meu cuscuz cortado eu gosto de comer bem em vez de gregado    \n",
       "\n",
       "                                                                 sentence_clean  \\\n",
       "0                                pedir dinheiro emprestado às pessoas da aldeia   \n",
       "1                                                                    trancá los   \n",
       "2                              o youtube ainda é a melhor plataforma de vídeos    \n",
       "3                                          menina e menino beijando nas sombras   \n",
       "4  particularmente meu cuscuz cortado eu gosto de comer bem em vez de grelhado    \n",
       "\n",
       "                                                          translation_clean  \n",
       "0                                   borrow money from people in the village  \n",
       "1                                                              lock them up  \n",
       "2                                 youtube is still the best video platform   \n",
       "3                                   a girl and a boy kissing in the shadows  \n",
       "4  i actually prefer to eat my sliced couscous as it is instead of grilled   "
      ]
     },
     "execution_count": 35,
     "metadata": {},
     "output_type": "execute_result"
    }
   ],
   "source": [
    "dataframe = pd.DataFrame(dict(transcription=data[\"hypothesis\"], sentence=data[\"sentence\"], translation=data[\"translation\"], transcription_clean=data[\"hypothesis_clean\"],  sentence_clean=data[\"sentence_clean\"], translation_clean=data[\"translation_clean\"] ))\n",
    "pd.set_option('display.max_colwidth', None)\n",
    "dataframe.head(5)"
   ]
  },
  {
   "cell_type": "code",
   "execution_count": 36,
   "metadata": {
    "executionInfo": {
     "elapsed": 29,
     "status": "ok",
     "timestamp": 1737587701668,
     "user": {
      "displayName": "Valentina López",
      "userId": "10053159817145417315"
     },
     "user_tz": -60
    },
    "id": "kL5pKwhQ5Tdk"
   },
   "outputs": [],
   "source": [
    "dataframe.to_csv('/content/drive/MyDrive/Colab Notebooks/TA/A3/pt_en_ASR_Whisper_Medium_test.csv', encoding='utf-8')"
   ]
  }
 ],
 "metadata": {
  "accelerator": "GPU",
  "colab": {
   "gpuType": "T4",
   "provenance": []
  },
  "kernelspec": {
   "display_name": "Python 3",
   "name": "python3"
  },
  "language_info": {
   "codemirror_mode": {
    "name": "ipython",
    "version": 3
   },
   "file_extension": ".py",
   "mimetype": "text/x-python",
   "name": "python",
   "nbconvert_exporter": "python",
   "pygments_lexer": "ipython3",
   "version": "3.12.3"
  }
 },
 "nbformat": 4,
 "nbformat_minor": 0
}
